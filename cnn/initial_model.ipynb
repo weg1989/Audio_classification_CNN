{
 "cells": [
  {
   "cell_type": "code",
   "execution_count": 19,
   "id": "254ae038",
   "metadata": {},
   "outputs": [
    {
     "name": "stdout",
     "output_type": "stream",
     "text": [
      "Collecting tqdm\n",
      "  Using cached tqdm-4.65.0-py3-none-any.whl (77 kB)\n",
      "Requirement already satisfied: colorama in c:\\users\\jay\\appdata\\local\\packages\\pythonsoftwarefoundation.python.3.10_qbz5n2kfra8p0\\localcache\\local-packages\\python310\\site-packages (from tqdm) (0.4.6)\n",
      "Installing collected packages: tqdm\n",
      "Successfully installed tqdm-4.65.0\n"
     ]
    },
    {
     "name": "stderr",
     "output_type": "stream",
     "text": [
      "\n",
      "[notice] A new release of pip is available: 23.0.1 -> 23.2.1\n",
      "[notice] To update, run: C:\\Users\\Jay\\AppData\\Local\\Microsoft\\WindowsApps\\PythonSoftwareFoundation.Python.3.10_qbz5n2kfra8p0\\python.exe -m pip install --upgrade pip\n"
     ]
    }
   ],
   "source": [
    "!pip install tqdm"
   ]
  },
  {
   "cell_type": "code",
   "execution_count": 20,
   "id": "c50eb008",
   "metadata": {},
   "outputs": [],
   "source": [
    "import torch\n",
    "from torch import nn\n",
    "from torch.utils.data import DataLoader\n",
    "from torchvision import datasets\n",
    "from torchvision.transforms import ToTensor\n",
    "from tqdm.auto import tqdm"
   ]
  },
  {
   "cell_type": "markdown",
   "id": "b9cd68ff",
   "metadata": {},
   "source": [
    "download dataset\n",
    "create dataloader\n",
    "build model \n",
    "train\n",
    "save trained model"
   ]
  },
  {
   "cell_type": "code",
   "execution_count": 5,
   "id": "d02749d7",
   "metadata": {},
   "outputs": [],
   "source": [
    "def download_mnist_datasets():\n",
    "    train_data = datasets.MNIST(\n",
    "    root='data',\n",
    "    download=True,\n",
    "    train=True,\n",
    "    transform=ToTensor())\n",
    "    test_data = datasets.MNIST(\n",
    "    root='data',\n",
    "        download=True,\n",
    "        train=False,\n",
    "        transform=ToTensor()\n",
    "    )\n",
    "    return train_data , test_data"
   ]
  },
  {
   "cell_type": "code",
   "execution_count": 6,
   "id": "a0024ae5",
   "metadata": {},
   "outputs": [
    {
     "name": "stdout",
     "output_type": "stream",
     "text": [
      "Downloading http://yann.lecun.com/exdb/mnist/train-images-idx3-ubyte.gz\n",
      "Downloading http://yann.lecun.com/exdb/mnist/train-images-idx3-ubyte.gz to data\\MNIST\\raw\\train-images-idx3-ubyte.gz\n"
     ]
    },
    {
     "name": "stderr",
     "output_type": "stream",
     "text": [
      "100.0%\n"
     ]
    },
    {
     "name": "stdout",
     "output_type": "stream",
     "text": [
      "Extracting data\\MNIST\\raw\\train-images-idx3-ubyte.gz to data\\MNIST\\raw\n",
      "\n",
      "Downloading http://yann.lecun.com/exdb/mnist/train-labels-idx1-ubyte.gz\n",
      "Downloading http://yann.lecun.com/exdb/mnist/train-labels-idx1-ubyte.gz to data\\MNIST\\raw\\train-labels-idx1-ubyte.gz\n"
     ]
    },
    {
     "name": "stderr",
     "output_type": "stream",
     "text": [
      "100.0%\n"
     ]
    },
    {
     "name": "stdout",
     "output_type": "stream",
     "text": [
      "Extracting data\\MNIST\\raw\\train-labels-idx1-ubyte.gz to data\\MNIST\\raw\n",
      "\n",
      "Downloading http://yann.lecun.com/exdb/mnist/t10k-images-idx3-ubyte.gz\n",
      "Downloading http://yann.lecun.com/exdb/mnist/t10k-images-idx3-ubyte.gz to data\\MNIST\\raw\\t10k-images-idx3-ubyte.gz\n"
     ]
    },
    {
     "name": "stderr",
     "output_type": "stream",
     "text": [
      "100.0%\n"
     ]
    },
    {
     "name": "stdout",
     "output_type": "stream",
     "text": [
      "Extracting data\\MNIST\\raw\\t10k-images-idx3-ubyte.gz to data\\MNIST\\raw\n",
      "\n",
      "Downloading http://yann.lecun.com/exdb/mnist/t10k-labels-idx1-ubyte.gz\n",
      "Downloading http://yann.lecun.com/exdb/mnist/t10k-labels-idx1-ubyte.gz to data\\MNIST\\raw\\t10k-labels-idx1-ubyte.gz\n"
     ]
    },
    {
     "name": "stderr",
     "output_type": "stream",
     "text": [
      "100.0%\n"
     ]
    },
    {
     "name": "stdout",
     "output_type": "stream",
     "text": [
      "Extracting data\\MNIST\\raw\\t10k-labels-idx1-ubyte.gz to data\\MNIST\\raw\n",
      "\n"
     ]
    }
   ],
   "source": [
    "train_dataset , test_dataset = download_mnist_datasets()"
   ]
  },
  {
   "cell_type": "code",
   "execution_count": 7,
   "id": "2e85fb90",
   "metadata": {},
   "outputs": [],
   "source": [
    "# Create a dataloader\n",
    "Batch=128\n",
    "\n",
    "train_data_loader = DataLoader(train_dataset, batch_size=Batch)\n",
    "test_data_loader = DataLoader(test_dataset, batch_size=Batch)"
   ]
  },
  {
   "cell_type": "code",
   "execution_count": 8,
   "id": "d127ac2f",
   "metadata": {},
   "outputs": [],
   "source": [
    "# Build model\n",
    "class FedForNet(nn.Module):\n",
    "    def __init__(self):\n",
    "        super().__init__()\n",
    "        self.flatten = nn.Flatten()\n",
    "        self.dense_layers = nn.Sequential(\n",
    "            nn.Linear(in_features=28*28,out_features=256),\n",
    "            nn.ReLU(),\n",
    "            nn.Linear(256,10))\n",
    "        self.softmax = nn.Softmax(dim=1)\n",
    "        \n",
    "    def forward(self, x):\n",
    "        return self.softmax(self.dense_layers(self.flatten(x)))\n",
    "    "
   ]
  },
  {
   "cell_type": "code",
   "execution_count": 9,
   "id": "026d80c8",
   "metadata": {},
   "outputs": [
    {
     "data": {
      "text/plain": [
       "'cuda'"
      ]
     },
     "execution_count": 9,
     "metadata": {},
     "output_type": "execute_result"
    }
   ],
   "source": [
    "# Steup device agnostic code\n",
    "device = \"cuda\" if torch.cuda.is_available() else \"cpu\"\n",
    "device"
   ]
  },
  {
   "cell_type": "code",
   "execution_count": 11,
   "id": "e330fa63",
   "metadata": {},
   "outputs": [
    {
     "data": {
      "text/plain": [
       "FedForNet(\n",
       "  (flatten): Flatten(start_dim=1, end_dim=-1)\n",
       "  (dense_layers): Sequential(\n",
       "    (0): Linear(in_features=784, out_features=256, bias=True)\n",
       "    (1): ReLU()\n",
       "    (2): Linear(in_features=256, out_features=10, bias=True)\n",
       "  )\n",
       "  (softmax): Softmax(dim=1)\n",
       ")"
      ]
     },
     "execution_count": 11,
     "metadata": {},
     "output_type": "execute_result"
    }
   ],
   "source": [
    "model_0 = FedForNet().to(device)\n",
    "model_0"
   ]
  },
  {
   "cell_type": "code",
   "execution_count": 24,
   "id": "7f3238ee",
   "metadata": {},
   "outputs": [],
   "source": [
    "def train_step(model, data_loader, loss_fn, optimizer, device):\n",
    "    \n",
    "    model.train()\n",
    "    for X,y in data_loader:\n",
    "        X , y = X.to(device) , y.to(device)\n",
    "        \n",
    "        y_pred = model(X)\n",
    "        \n",
    "        loss = loss_fn(y_pred,y)\n",
    "        \n",
    "        optimizer.zero_grad()\n",
    "        \n",
    "        loss.backward()\n",
    "        \n",
    "        optimizer.step()\n",
    "        \n",
    "    print(f\"Loss: {loss}\")"
   ]
  },
  {
   "cell_type": "code",
   "execution_count": 28,
   "id": "469837af",
   "metadata": {},
   "outputs": [],
   "source": [
    "def test_step(model, data_loader, loss_fn, device):\n",
    "    \n",
    "    model.eval()\n",
    "    \n",
    "    with torch.inference_mode():\n",
    "        \n",
    "        for X,y in data_loader:\n",
    "            X , y = X.to(device) , y.to(device)\n",
    "\n",
    "            test_pred = model(X)\n",
    "\n",
    "            test_loss = loss_fn(test_pred,y)\n",
    "\n",
    "        \n",
    "    print(f\"Test Loss: {test_loss}\")"
   ]
  },
  {
   "cell_type": "code",
   "execution_count": 29,
   "id": "9b653daf",
   "metadata": {},
   "outputs": [],
   "source": [
    "loss_fn = nn.CrossEntropyLoss()\n",
    "\n",
    "optimizer = torch.optim.Adam(params=model_0.parameters(),\n",
    "                            lr=0.01)"
   ]
  },
  {
   "cell_type": "code",
   "execution_count": 30,
   "id": "b76975a9",
   "metadata": {},
   "outputs": [
    {
     "data": {
      "application/vnd.jupyter.widget-view+json": {
       "model_id": "4cb68848064544c89133c962ae41c156",
       "version_major": 2,
       "version_minor": 0
      },
      "text/plain": [
       "  0%|          | 0/3 [00:00<?, ?it/s]"
      ]
     },
     "metadata": {},
     "output_type": "display_data"
    },
    {
     "name": "stdout",
     "output_type": "stream",
     "text": [
      "Epoch: 0 \n",
      "-----------\n",
      "Loss: 1.5735770463943481\n",
      "Test Loss: 1.4611505270004272\n",
      "Epoch: 1 \n",
      "-----------\n",
      "Loss: 1.4871691465377808\n",
      "Test Loss: 1.4611505270004272\n",
      "Epoch: 2 \n",
      "-----------\n",
      "Loss: 1.48198401927948\n",
      "Test Loss: 1.4611505270004272\n"
     ]
    }
   ],
   "source": [
    "# Set the number of epochs\n",
    "epochs = 3\n",
    "\n",
    "for epoch in tqdm(range(epochs)):\n",
    "      print(f\"Epoch: {epoch} \\n-----------\")\n",
    "      ### Training\n",
    "      train_step(model=model_0,\n",
    "                   data_loader=train_data_loader,\n",
    "                   loss_fn=loss_fn,\n",
    "                   optimizer=optimizer,\n",
    "                   device=device)\n",
    "\n",
    "      ###testing\n",
    "      test_step(model=model_0,\n",
    "                   data_loader=test_data_loader,\n",
    "                   loss_fn=loss_fn,\n",
    "                   device=device)"
   ]
  },
  {
   "cell_type": "code",
   "execution_count": 31,
   "id": "2a44ff3e",
   "metadata": {},
   "outputs": [
    {
     "data": {
      "text/plain": [
       "OrderedDict([('dense_layers.0.weight',\n",
       "              tensor([[ 0.0268,  0.0315, -0.0315,  ...,  0.0005,  0.0354,  0.0341],\n",
       "                      [ 0.0325, -0.0021,  0.0209,  ..., -0.0155,  0.0031, -0.0029],\n",
       "                      [ 0.0247, -0.0138,  0.0057,  ...,  0.0342,  0.0341, -0.0184],\n",
       "                      ...,\n",
       "                      [ 0.0318, -0.0264, -0.0246,  ..., -0.0283,  0.0346,  0.0240],\n",
       "                      [-0.0050,  0.0076, -0.0201,  ..., -0.0344, -0.0085, -0.0130],\n",
       "                      [-0.0182, -0.0266, -0.0290,  ..., -0.0187,  0.0352,  0.0309]],\n",
       "                     device='cuda:0')),\n",
       "             ('dense_layers.0.bias',\n",
       "              tensor([-8.6941e-02,  1.0909e-01,  4.2577e-02, -1.2244e-02, -1.7834e-01,\n",
       "                       3.7485e-01, -7.1277e-02,  1.1748e-01, -1.7788e-01, -4.0114e-02,\n",
       "                      -1.2993e-01, -1.8325e-01, -1.7881e-02, -4.5086e-01, -1.2966e-01,\n",
       "                      -8.2375e-02, -3.1820e-01, -6.4066e-02,  3.3100e-01,  3.0859e-01,\n",
       "                      -2.8307e-01, -3.4717e-02, -1.6449e-01,  2.4454e-02, -4.6179e-02,\n",
       "                      -3.0759e-01, -1.4328e-01, -1.0699e-01,  2.2863e-01,  1.7046e-01,\n",
       "                      -2.2523e-01,  1.1994e-01, -6.2655e-02, -9.2007e-02, -2.1598e-01,\n",
       "                      -2.6863e-01, -3.0872e-01, -4.0031e-02, -2.2724e-01, -1.2584e-01,\n",
       "                      -8.2732e-02,  1.7982e-01,  1.4342e-01, -3.7773e-01,  1.8859e-01,\n",
       "                      -1.4116e-01, -2.5564e-01,  1.1554e-01, -2.9564e-02, -2.1536e-01,\n",
       "                      -2.6914e-01, -1.9884e-01,  1.1307e-01, -1.6035e-01, -1.0104e-01,\n",
       "                       4.4782e-02, -5.0245e-02,  1.8991e-01, -3.1028e-01,  1.5783e-01,\n",
       "                      -3.1602e-01, -5.4365e-02,  3.7465e-01, -7.6594e-02, -1.7053e-02,\n",
       "                       1.6872e-01, -1.1012e-01,  1.5376e-01, -6.5140e-02,  3.2375e-01,\n",
       "                       7.0687e-02, -9.2931e-02,  3.5814e-02,  2.5314e-02, -2.6330e-01,\n",
       "                       8.6006e-02,  2.3774e-01, -5.4031e-01,  3.7707e-02, -2.1120e-01,\n",
       "                      -1.7743e-01, -7.7893e-02, -3.7907e-01, -7.0364e-02, -5.4626e-01,\n",
       "                      -2.2596e-01, -3.8888e-01, -4.3352e-01, -4.6646e-02, -2.9359e-01,\n",
       "                      -4.2361e-01, -1.7350e-01, -6.3479e-02,  3.9877e-03, -1.1376e-01,\n",
       "                       5.2782e-02, -8.3709e-02, -1.4388e-02, -3.0823e-01,  8.0624e-02,\n",
       "                       8.7207e-02,  2.0953e-01,  2.2386e-01, -1.4769e-01, -1.3701e-01,\n",
       "                      -1.2607e-01, -3.6372e-01, -1.7340e-01,  4.1084e-04, -3.3087e-01,\n",
       "                      -7.4803e-02,  3.6010e-01, -2.9239e-01, -2.6486e-01, -1.6705e-01,\n",
       "                      -9.6648e-02, -6.4222e-02,  1.3854e-01, -6.0250e-02, -2.4315e-01,\n",
       "                      -1.1602e-01,  7.2599e-03, -6.1758e-02, -5.8719e-02,  5.5573e-03,\n",
       "                      -1.1899e-01, -4.3467e-01, -5.8537e-02,  1.8959e-04, -9.1466e-02,\n",
       "                       8.2115e-02,  9.4806e-04,  2.2239e-01, -1.3907e-02,  3.1909e-02,\n",
       "                       1.3100e-01, -1.2501e-01, -4.9120e-02,  3.9407e-02, -2.5406e-02,\n",
       "                      -1.7085e-02,  1.2841e-01, -1.1509e-01,  2.5449e-01,  9.3085e-02,\n",
       "                      -2.3566e-01, -2.7290e-01, -8.7470e-02, -1.7154e-01, -2.1943e-01,\n",
       "                      -3.6721e-02, -1.6573e-01,  2.3628e-01,  6.6165e-02, -1.5950e-01,\n",
       "                      -8.1511e-02, -6.9869e-02,  1.5398e-01, -2.7709e-01, -5.2674e-02,\n",
       "                      -2.5861e-01, -1.4203e-01, -3.7205e-01,  2.1211e-01, -1.3237e-01,\n",
       "                      -6.3498e-02, -1.8284e-01,  5.0305e-02, -3.0074e-01,  1.1656e-01,\n",
       "                       3.2319e-01, -1.1681e-01,  1.6114e-01,  1.0735e-01, -2.3179e-01,\n",
       "                       3.5857e-02, -5.2788e-02, -1.9358e-01,  3.7016e-01, -2.7026e-01,\n",
       "                      -1.9740e-01, -2.4593e-01, -1.8745e-01, -4.3440e-01, -1.5731e-01,\n",
       "                       1.7093e-01, -1.7363e-01, -2.7922e-01,  2.7516e-01,  4.2914e-02,\n",
       "                      -3.3575e-02, -2.4229e-01, -2.5088e-01, -3.6439e-02, -2.6020e-01,\n",
       "                      -1.0625e-02, -1.7063e-01,  4.2808e-01, -7.5659e-02, -1.4466e-01,\n",
       "                       6.0907e-02, -1.8479e-01, -1.2607e-01,  7.5944e-02, -9.3399e-02,\n",
       "                       4.2489e-01, -1.7478e-01,  3.2699e-02,  1.0216e-01, -3.4414e-01,\n",
       "                      -2.4812e-01, -2.5083e-01, -2.8559e-01, -3.0715e-01,  1.8624e-01,\n",
       "                      -2.4962e-01, -3.0875e-01, -3.5286e-01, -2.2403e-01, -2.7800e-01,\n",
       "                       1.2163e-01, -9.5534e-02, -2.4781e-01, -1.6591e-01, -5.7432e-02,\n",
       "                      -2.7453e-01,  1.4390e-01, -6.3345e-02,  1.8017e-01, -3.0300e-01,\n",
       "                      -5.3272e-02,  1.4757e-01, -1.5740e-01, -3.2165e-01, -4.0969e-02,\n",
       "                      -3.5339e-01, -1.6314e-01, -3.9738e-01,  1.5469e-01,  2.2526e-01,\n",
       "                      -2.8637e-01,  5.1211e-02, -5.6701e-02, -2.1962e-02, -5.8600e-02,\n",
       "                       1.3397e-01,  6.6027e-02,  3.5128e-02, -6.4767e-02,  1.7470e-01,\n",
       "                      -4.3898e-02, -1.9403e-01, -9.6330e-02,  2.7894e-01,  5.4308e-02,\n",
       "                      -9.4623e-02], device='cuda:0')),\n",
       "             ('dense_layers.2.weight',\n",
       "              tensor([[ 6.3092e-02, -7.7311e-01, -3.8759e-01,  ...,  8.2473e-01,\n",
       "                        1.4556e-02,  3.6228e-01],\n",
       "                      [-6.5156e-02, -1.7325e-01, -1.5678e-01,  ..., -1.6179e-01,\n",
       "                        1.5658e-01, -3.2853e-02],\n",
       "                      [ 9.7522e-02, -1.4469e-01,  2.1919e-01,  ..., -1.0210e+00,\n",
       "                        7.6134e-02, -6.8403e-02],\n",
       "                      ...,\n",
       "                      [-5.3159e-02,  3.7276e-01,  5.1273e-01,  ...,  2.0444e-01,\n",
       "                       -3.0023e-01,  3.1208e-01],\n",
       "                      [-7.4793e-03, -7.7658e-01, -2.9705e-01,  ..., -7.4616e-02,\n",
       "                       -5.5853e-02, -4.3921e-01],\n",
       "                      [-6.1376e-04, -1.4834e-01, -1.5050e-01,  ...,  6.3958e-02,\n",
       "                       -7.2259e-03,  1.5040e-01]], device='cuda:0')),\n",
       "             ('dense_layers.2.bias',\n",
       "              tensor([-0.1751, -0.2644, -0.0526, -0.1433,  0.0690, -0.0100, -0.1392,  0.0401,\n",
       "                       0.3454,  0.1682], device='cuda:0'))])"
      ]
     },
     "execution_count": 31,
     "metadata": {},
     "output_type": "execute_result"
    }
   ],
   "source": [
    "model_0.state_dict()"
   ]
  },
  {
   "cell_type": "code",
   "execution_count": 32,
   "id": "1fe1b167",
   "metadata": {},
   "outputs": [
    {
     "name": "stdout",
     "output_type": "stream",
     "text": [
      "Model stored\n"
     ]
    }
   ],
   "source": [
    "torch.save(model_0.state_dict(), \"FedFornet.pth\")\n",
    "print(\"Model stored\")"
   ]
  },
  {
   "cell_type": "code",
   "execution_count": null,
   "id": "d4c90936",
   "metadata": {},
   "outputs": [],
   "source": []
  }
 ],
 "metadata": {
  "kernelspec": {
   "display_name": "Python 3 (ipykernel)",
   "language": "python",
   "name": "python3"
  },
  "language_info": {
   "codemirror_mode": {
    "name": "ipython",
    "version": 3
   },
   "file_extension": ".py",
   "mimetype": "text/x-python",
   "name": "python",
   "nbconvert_exporter": "python",
   "pygments_lexer": "ipython3",
   "version": "3.10.11"
  }
 },
 "nbformat": 4,
 "nbformat_minor": 5
}
