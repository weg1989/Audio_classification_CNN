{
 "cells": [
  {
   "cell_type": "code",
   "execution_count": 11,
   "id": "1e17ac4a",
   "metadata": {},
   "outputs": [],
   "source": [
    "from torch.utils.data import Dataset\n",
    "import torchaudio\n",
    "import pandas as pd\n",
    "import os\n",
    "import torch\n"
   ]
  },
  {
   "cell_type": "code",
   "execution_count": 12,
   "id": "06d5f74e",
   "metadata": {},
   "outputs": [
    {
     "data": {
      "text/plain": [
       "'cuda'"
      ]
     },
     "execution_count": 12,
     "metadata": {},
     "output_type": "execute_result"
    }
   ],
   "source": [
    "# Steup device agnostic code\n",
    "device = \"cuda\" if torch.cuda.is_available() else \"cpu\"\n",
    "device"
   ]
  },
  {
   "cell_type": "markdown",
   "id": "8a96daf7",
   "metadata": {},
   "source": [
    "class UrbansoundDataset(Dataset):\n",
    "    \n",
    "    def __init__(self, annotation_file, audio_dir, transformation,target_sample_rate,num_samples):\n",
    "        self.annotations = pd.read_csv(annotation_file)\n",
    "        self.audio_dir = audio_dir\n",
    "        self.transformation = transformation\n",
    "        self.target_sample_rate = target_sample_rate\n",
    "        self.num_samples = num_samples\n",
    "    \n",
    "    def __len__(self): # used to get length of an item\n",
    "        return len(self.annotations)\n",
    "    \n",
    "    def __getitem__(self, index): #a_list[1] -> a_list.__getitem__(1)\n",
    "        audio_sample_path = self._get_audio_sample_path(index)\n",
    "        label = self._get_audio_sample_label(index)\n",
    "        signal, sr = torchaudio.load(audio_sample_path)\n",
    "        signal = self._resample_if_necessary(signal, sr)\n",
    "        signal = self._mix_down_if_necessary(signal)\n",
    "        #signal = self._cut_if_necessary(signal)\n",
    "        #signal = self._right_pad_if_necessary(signal)\n",
    "        signal = self.transformation(signal)\n",
    "        return signal , label\n",
    "        \n",
    "    def _get_audio_sample_path(self, index):\n",
    "        fold = f\"fold{self.annotations.iloc[index, 5]}\"\n",
    "        path = os.path.join(self.audio_dir, fold, self.annotations.iloc[index, 0])\n",
    "        return path\n",
    "    \n",
    "    def _get_audio_sample_label(self, index):\n",
    "        return self.annotations.iloc[index, 6]\n",
    "    \n",
    "    def _resample_if_necessary(self, signal, sr):\n",
    "        if sr != self.target_sample_rate:\n",
    "            resampler = torchaudio.transforms.Resample(sr, self.target_sample_rate)\n",
    "            signal = resampler(signal)\n",
    "        return signal\n",
    "    \n",
    "    def _mix_down_if_necessary(self, signal):\n",
    "        if signal.shape[0]>1:\n",
    "            signal = torch.mean(signal , dim=0, keepdim=True)\n",
    "        return signal\n",
    "    \n",
    "#     def _cut_if_necessary(self, signal):\n",
    "#         if signal.shape[1] > self.num_samples:\n",
    "#             signal = signal[:, :self.num_samples]\n",
    "#         return signal\n",
    "        \n",
    "#     def _right_pad_if_necessary(self, signal):\n",
    "#         length_signal = signal.shape[1]\n",
    "#         if length_signal < self.num_samples:\n",
    "#             num_missing_samples = self.num_samples - length_signal\n",
    "#             last_dim_padding = (0, num_missing_samples)  # 0 extra elements added to the left of tensor, num_missing_samples added to the right of tensor\n",
    "#             signal = torch.nn.functional.pad(signal, last_dim_padding)\n",
    "#         return signal"
   ]
  },
  {
   "cell_type": "markdown",
   "id": "346d9e25",
   "metadata": {},
   "source": [
    "Padding can be done to both left and right of a tensor as we have seen above \n",
    "\n",
    "It can also be done to different level of dimnesions\n",
    "(1,1,2,2) - this will add 1 at start and end of the outter most dimension\n",
    "            and 2 at start and end of the second outermost dimension"
   ]
  },
  {
   "cell_type": "code",
   "execution_count": 13,
   "id": "67e703e9",
   "metadata": {},
   "outputs": [],
   "source": [
    "class UrbanSoundDataset(Dataset):\n",
    "\n",
    "    def __init__(self,\n",
    "                 annotations_file,\n",
    "                 audio_dir,\n",
    "                 transformation1,\n",
    "                 transformation2,\n",
    "                 transformation3,\n",
    "                 #transformation4,\n",
    "                 target_sample_rate,\n",
    "                 #num_samples,\n",
    "                 device\n",
    "                 ):\n",
    "        self.device = device\n",
    "        self.annotations = pd.read_csv(annotations_file)\n",
    "        self.audio_dir = audio_dir\n",
    "        self.transformation1 = transformation1.to(device)\n",
    "        self.transformation2 = transformation2.to(device)\n",
    "        self.transformation3 = transformation3.to(device)\n",
    "        #self.transformation4 = transformation4.to(device)\n",
    "        self.target_sample_rate = target_sample_rate\n",
    "        #self.num_samples = num_samples\n",
    "\n",
    "    def __len__(self):\n",
    "        return len(self.annotations)\n",
    "\n",
    "    def __getitem__(self, index):\n",
    "        audio_sample_path = self._get_audio_sample_path(index)\n",
    "        label = self._get_audio_sample_label(index)\n",
    "        signal, sr = torchaudio.load(audio_sample_path)\n",
    "        signal = signal.to(device)\n",
    "        signal = self._resample_if_necessary(signal, sr)\n",
    "        signal = self._mix_down_if_necessary(signal)\n",
    "        #signal = self._cut_if_necessary(signal)\n",
    "        #signal = self._right_pad_if_necessary(signal)\n",
    "        T1 , T2 , T3  = self.transformation1(signal) , self.transformation2(signal) , self.transformation3(signal) \n",
    "        signal = torch.cat((T1, T2, T3), dim=1)\n",
    "        return signal, label\n",
    "\n",
    "    def _cut_if_necessary(self, signal):\n",
    "        if signal.shape[1] > self.num_samples:\n",
    "            signal = signal[:, :self.num_samples]\n",
    "        return signal\n",
    "\n",
    "    def _right_pad_if_necessary(self, signal):\n",
    "        length_signal = signal.shape[1]\n",
    "        if length_signal < self.num_samples:\n",
    "            num_missing_samples = self.num_samples - length_signal\n",
    "            last_dim_padding = (0, num_missing_samples)\n",
    "            signal = torch.nn.functional.pad(signal, last_dim_padding)\n",
    "        return signal\n",
    "\n",
    "    def _resample_if_necessary(self, signal, sr):\n",
    "        if sr != self.target_sample_rate:\n",
    "            resampler = torchaudio.transforms.Resample(sr, self.target_sample_rate).to(device)\n",
    "            signal = resampler(signal)\n",
    "        return signal\n",
    "\n",
    "    def _mix_down_if_necessary(self, signal):\n",
    "        if signal.shape[0] > 1:\n",
    "            signal = torch.mean(signal, dim=0, keepdim=True)\n",
    "        return signal\n",
    "\n",
    "    def _get_audio_sample_path(self, index):\n",
    "        fold = f\"fold{self.annotations.iloc[index, 5]}\"\n",
    "        path = os.path.join(self.audio_dir, fold, self.annotations.iloc[\n",
    "            index, 0])\n",
    "        return path\n",
    "\n",
    "    def _get_audio_sample_label(self, index):\n",
    "        return self.annotations.iloc[index, 6]"
   ]
  },
  {
   "cell_type": "code",
   "execution_count": 14,
   "id": "9f78977b",
   "metadata": {},
   "outputs": [
    {
     "name": "stderr",
     "output_type": "stream",
     "text": [
      "C:\\Users\\Jay\\AppData\\Local\\Packages\\PythonSoftwareFoundation.Python.3.10_qbz5n2kfra8p0\\LocalCache\\local-packages\\Python310\\site-packages\\torchaudio\\functional\\functional.py:576: UserWarning: At least one mel filterbank has all zero values. The value for `n_mels` (128) may be set too high. Or, the value for `n_freqs` (201) may be set too low.\n",
      "  warnings.warn(\n"
     ]
    }
   ],
   "source": [
    "SAMPLE_RATE=16000\n",
    "#NUM_SAMPLES = 22050\n",
    "\n",
    "mel_spec = torchaudio.transforms.MelSpectrogram(sample_rate = SAMPLE_RATE,\n",
    "                                              n_fft = 1024,\n",
    "                                              hop_length = 512,\n",
    "                                              n_mels = 64)\n",
    "\n",
    "#stft = torch.stft(sample_rate = SAMPLE_RATE,\n",
    "                #n_fft = 1024,\n",
    "                #hop_length = 512)\n",
    "\n",
    "lfcc = torchaudio.transforms.LFCC(sample_rate = SAMPLE_RATE, \n",
    "                                  n_lfcc = 40)\n",
    "\n",
    "mfcc = torchaudio.transforms.MFCC(sample_rate = SAMPLE_RATE, \n",
    "                                  n_mfcc = 40)"
   ]
  },
  {
   "cell_type": "code",
   "execution_count": 16,
   "id": "740c96b0",
   "metadata": {},
   "outputs": [
    {
     "name": "stdout",
     "output_type": "stream",
     "text": [
      "There are 873 samples in the dataset.\n"
     ]
    },
    {
     "ename": "RuntimeError",
     "evalue": "Sizes of tensors must match except in dimension 1. Expected size 126 but got size 321 for tensor number 1 in the list.",
     "output_type": "error",
     "traceback": [
      "\u001b[1;31m---------------------------------------------------------------------------\u001b[0m",
      "\u001b[1;31mRuntimeError\u001b[0m                              Traceback (most recent call last)",
      "Cell \u001b[1;32mIn[16], line 8\u001b[0m\n\u001b[0;32m      4\u001b[0m usd \u001b[38;5;241m=\u001b[39m UrbanSoundDataset(ANNOTATIONS_FILE,AUDIO_DIR,mel_spec,lfcc,mfcc,SAMPLE_RATE,device)\n\u001b[0;32m      6\u001b[0m \u001b[38;5;28mprint\u001b[39m(\u001b[38;5;124mf\u001b[39m\u001b[38;5;124m\"\u001b[39m\u001b[38;5;124mThere are \u001b[39m\u001b[38;5;132;01m{\u001b[39;00m\u001b[38;5;28mlen\u001b[39m(usd)\u001b[38;5;132;01m}\u001b[39;00m\u001b[38;5;124m samples in the dataset.\u001b[39m\u001b[38;5;124m\"\u001b[39m)\n\u001b[1;32m----> 8\u001b[0m signal , label \u001b[38;5;241m=\u001b[39m \u001b[43musd\u001b[49m\u001b[43m[\u001b[49m\u001b[38;5;241;43m0\u001b[39;49m\u001b[43m]\u001b[49m\n\u001b[0;32m     10\u001b[0m \u001b[38;5;28mprint\u001b[39m(signal) , \u001b[38;5;28mprint\u001b[39m(label) , \u001b[38;5;28mprint\u001b[39m(signal\u001b[38;5;241m.\u001b[39mshape), \u001b[38;5;28mprint\u001b[39m(signal\u001b[38;5;241m.\u001b[39mdevice)\n\u001b[0;32m     12\u001b[0m a\u001b[38;5;241m=\u001b[39m\u001b[38;5;241m1\u001b[39m\n",
      "Cell \u001b[1;32mIn[13], line 37\u001b[0m, in \u001b[0;36mUrbanSoundDataset.__getitem__\u001b[1;34m(self, index)\u001b[0m\n\u001b[0;32m     34\u001b[0m \u001b[38;5;66;03m#signal = self._cut_if_necessary(signal)\u001b[39;00m\n\u001b[0;32m     35\u001b[0m \u001b[38;5;66;03m#signal = self._right_pad_if_necessary(signal)\u001b[39;00m\n\u001b[0;32m     36\u001b[0m T1 , T2 , T3  \u001b[38;5;241m=\u001b[39m \u001b[38;5;28mself\u001b[39m\u001b[38;5;241m.\u001b[39mtransformation1(signal) , \u001b[38;5;28mself\u001b[39m\u001b[38;5;241m.\u001b[39mtransformation2(signal) , \u001b[38;5;28mself\u001b[39m\u001b[38;5;241m.\u001b[39mtransformation3(signal) \n\u001b[1;32m---> 37\u001b[0m signal \u001b[38;5;241m=\u001b[39m \u001b[43mtorch\u001b[49m\u001b[38;5;241;43m.\u001b[39;49m\u001b[43mcat\u001b[49m\u001b[43m(\u001b[49m\u001b[43m(\u001b[49m\u001b[43mT1\u001b[49m\u001b[43m,\u001b[49m\u001b[43m \u001b[49m\u001b[43mT2\u001b[49m\u001b[43m,\u001b[49m\u001b[43m \u001b[49m\u001b[43mT3\u001b[49m\u001b[43m)\u001b[49m\u001b[43m,\u001b[49m\u001b[43m \u001b[49m\u001b[43mdim\u001b[49m\u001b[38;5;241;43m=\u001b[39;49m\u001b[38;5;241;43m1\u001b[39;49m\u001b[43m)\u001b[49m\n\u001b[0;32m     38\u001b[0m \u001b[38;5;28;01mreturn\u001b[39;00m signal, label\n",
      "\u001b[1;31mRuntimeError\u001b[0m: Sizes of tensors must match except in dimension 1. Expected size 126 but got size 321 for tensor number 1 in the list."
     ]
    }
   ],
   "source": [
    "ANNOTATIONS_FILE = r\"E:\\DL_audio\\with_pytorch\\data1\\metadata\\fold_1_annotation.csv\"\n",
    "AUDIO_DIR = r\"E:\\DL_audio\\with_pytorch\\data1\\audio\"\n",
    "    \n",
    "usd = UrbanSoundDataset(ANNOTATIONS_FILE,AUDIO_DIR,mel_spec,lfcc,mfcc,SAMPLE_RATE,device)\n",
    "\n",
    "print(f\"There are {len(usd)} samples in the dataset.\")\n",
    "\n",
    "signal , label = usd[0]\n",
    "\n",
    "print(signal) , print(label) , print(signal.shape), print(signal.device)\n",
    "\n",
    "a=1"
   ]
  },
  {
   "cell_type": "code",
   "execution_count": null,
   "id": "52983afe",
   "metadata": {},
   "outputs": [],
   "source": []
  },
  {
   "cell_type": "code",
   "execution_count": null,
   "id": "3d908018",
   "metadata": {},
   "outputs": [],
   "source": [
    "1) now we need to make three different data loaders\n",
    "2) https://discuss.pytorch.org/t/combine-two-model-on-pytorch/47858/5 , from this link understand how to pass each set of data from model and cncatenate their result\n",
    "3) run the entire process \n",
    "    - fit the flatten layer according to the data loader\n",
    "    - plot the confusion matrix\n",
    "        -- for each saperately\n",
    "        -- for all of them together"
   ]
  }
 ],
 "metadata": {
  "kernelspec": {
   "display_name": "Python 3 (ipykernel)",
   "language": "python",
   "name": "python3"
  },
  "language_info": {
   "codemirror_mode": {
    "name": "ipython",
    "version": 3
   },
   "file_extension": ".py",
   "mimetype": "text/x-python",
   "name": "python",
   "nbconvert_exporter": "python",
   "pygments_lexer": "ipython3",
   "version": "3.10.11"
  }
 },
 "nbformat": 4,
 "nbformat_minor": 5
}
