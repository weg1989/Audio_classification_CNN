{
 "cells": [
  {
   "cell_type": "code",
   "execution_count": 173,
   "id": "9683a1dd",
   "metadata": {},
   "outputs": [
    {
     "name": "stderr",
     "output_type": "stream",
     "text": [
      "\n",
      "[notice] A new release of pip is available: 23.0.1 -> 23.2.1\n",
      "[notice] To update, run: C:\\Users\\Jay\\AppData\\Local\\Microsoft\\WindowsApps\\PythonSoftwareFoundation.Python.3.10_qbz5n2kfra8p0\\python.exe -m pip install --upgrade pip\n"
     ]
    },
    {
     "name": "stdout",
     "output_type": "stream",
     "text": [
      "Collecting mlxtend\n",
      "  Downloading mlxtend-0.22.0-py2.py3-none-any.whl (1.4 MB)\n",
      "     ---------------------------------------- 0.0/1.4 MB ? eta -:--:--\n",
      "     ---------------------------------------- 0.0/1.4 MB ? eta -:--:--\n",
      "     ---------------------------------------- 0.0/1.4 MB ? eta -:--:--\n",
      "     ---------------------------------------- 0.0/1.4 MB ? eta -:--:--\n",
      "     ---------------------------------------- 0.0/1.4 MB ? eta -:--:--\n",
      "     ---------------------------------------- 0.0/1.4 MB ? eta -:--:--\n",
      "     ---------------------------------------- 0.0/1.4 MB ? eta -:--:--\n",
      "     ---------------------------------------- 0.0/1.4 MB ? eta -:--:--\n",
      "     ---------------------------------------- 0.0/1.4 MB ? eta -:--:--\n",
      "     ---------------------------------------- 0.0/1.4 MB ? eta -:--:--\n",
      "     ---------------------------------------- 0.0/1.4 MB ? eta -:--:--\n",
      "     ---------------------------------------- 0.0/1.4 MB ? eta -:--:--\n",
      "     ---------------------------------------- 0.0/1.4 MB ? eta -:--:--\n",
      "     ---------------------------------------- 0.0/1.4 MB ? eta -:--:--\n",
      "     ---------------------------------------- 0.0/1.4 MB ? eta -:--:--\n",
      "      --------------------------------------- 0.0/1.4 MB 50.4 kB/s eta 0:00:27\n",
      "      --------------------------------------- 0.0/1.4 MB 50.4 kB/s eta 0:00:27\n",
      "      --------------------------------------- 0.0/1.4 MB 50.4 kB/s eta 0:00:27\n",
      "      --------------------------------------- 0.0/1.4 MB 50.4 kB/s eta 0:00:27\n",
      "      --------------------------------------- 0.0/1.4 MB 50.4 kB/s eta 0:00:27\n",
      "      --------------------------------------- 0.0/1.4 MB 50.4 kB/s eta 0:00:27\n",
      "      --------------------------------------- 0.0/1.4 MB 50.4 kB/s eta 0:00:27\n",
      "     - -------------------------------------- 0.1/1.4 MB 66.9 kB/s eta 0:00:20\n",
      "     - -------------------------------------- 0.1/1.4 MB 66.9 kB/s eta 0:00:20\n",
      "     -- ------------------------------------- 0.1/1.4 MB 95.4 kB/s eta 0:00:14\n",
      "     --- ------------------------------------ 0.1/1.4 MB 113.0 kB/s eta 0:00:11\n",
      "     --- ------------------------------------ 0.1/1.4 MB 120.2 kB/s eta 0:00:11\n",
      "     ---- ----------------------------------- 0.2/1.4 MB 143.4 kB/s eta 0:00:09\n",
      "     ---- ----------------------------------- 0.2/1.4 MB 143.4 kB/s eta 0:00:09\n",
      "     ----- ---------------------------------- 0.2/1.4 MB 154.3 kB/s eta 0:00:08\n",
      "     ------ --------------------------------- 0.2/1.4 MB 170.7 kB/s eta 0:00:07\n",
      "     ------ --------------------------------- 0.2/1.4 MB 181.2 kB/s eta 0:00:07\n",
      "     ------ --------------------------------- 0.2/1.4 MB 185.0 kB/s eta 0:00:07\n",
      "     -------- ------------------------------- 0.3/1.4 MB 205.3 kB/s eta 0:00:06\n",
      "     -------- ------------------------------- 0.3/1.4 MB 210.7 kB/s eta 0:00:06\n",
      "     --------- ------------------------------ 0.3/1.4 MB 238.3 kB/s eta 0:00:05\n",
      "     ---------- ----------------------------- 0.4/1.4 MB 252.0 kB/s eta 0:00:04\n",
      "     ------------ --------------------------- 0.4/1.4 MB 272.0 kB/s eta 0:00:04\n",
      "     ------------- -------------------------- 0.5/1.4 MB 297.4 kB/s eta 0:00:04\n",
      "     --------------- ------------------------ 0.5/1.4 MB 334.3 kB/s eta 0:00:03\n",
      "     ---------------- ----------------------- 0.6/1.4 MB 350.0 kB/s eta 0:00:03\n",
      "     ------------------ --------------------- 0.6/1.4 MB 371.0 kB/s eta 0:00:02\n",
      "     -------------------- ------------------- 0.7/1.4 MB 408.9 kB/s eta 0:00:02\n",
      "     -------------------- ------------------- 0.7/1.4 MB 408.9 kB/s eta 0:00:02\n",
      "     ----------------------- ---------------- 0.8/1.4 MB 427.4 kB/s eta 0:00:02\n",
      "     ------------------------- -------------- 0.9/1.4 MB 461.2 kB/s eta 0:00:02\n",
      "     --------------------------- ------------ 0.9/1.4 MB 482.2 kB/s eta 0:00:01\n",
      "     ----------------------------- ---------- 1.0/1.4 MB 507.5 kB/s eta 0:00:01\n",
      "     ------------------------------- -------- 1.1/1.4 MB 536.8 kB/s eta 0:00:01\n",
      "     ---------------------------------- ----- 1.2/1.4 MB 574.8 kB/s eta 0:00:01\n",
      "     ------------------------------------- -- 1.3/1.4 MB 606.7 kB/s eta 0:00:01\n",
      "     ---------------------------------------  1.4/1.4 MB 631.3 kB/s eta 0:00:01\n",
      "     ---------------------------------------  1.4/1.4 MB 631.3 kB/s eta 0:00:01\n",
      "     ---------------------------------------  1.4/1.4 MB 631.3 kB/s eta 0:00:01\n",
      "     ---------------------------------------  1.4/1.4 MB 631.3 kB/s eta 0:00:01\n",
      "     ---------------------------------------- 1.4/1.4 MB 584.6 kB/s eta 0:00:00\n",
      "Requirement already satisfied: scipy>=1.2.1 in c:\\users\\jay\\appdata\\local\\packages\\pythonsoftwarefoundation.python.3.10_qbz5n2kfra8p0\\localcache\\local-packages\\python310\\site-packages (from mlxtend) (1.10.1)\n",
      "Requirement already satisfied: matplotlib>=3.0.0 in c:\\users\\jay\\appdata\\local\\packages\\pythonsoftwarefoundation.python.3.10_qbz5n2kfra8p0\\localcache\\local-packages\\python310\\site-packages (from mlxtend) (3.7.1)\n",
      "Requirement already satisfied: numpy>=1.16.2 in c:\\users\\jay\\appdata\\local\\packages\\pythonsoftwarefoundation.python.3.10_qbz5n2kfra8p0\\localcache\\local-packages\\python310\\site-packages (from mlxtend) (1.23.5)\n",
      "Requirement already satisfied: joblib>=0.13.2 in c:\\users\\jay\\appdata\\local\\packages\\pythonsoftwarefoundation.python.3.10_qbz5n2kfra8p0\\localcache\\local-packages\\python310\\site-packages (from mlxtend) (1.2.0)\n",
      "Requirement already satisfied: setuptools in c:\\program files\\windowsapps\\pythonsoftwarefoundation.python.3.10_3.10.3056.0_x64__qbz5n2kfra8p0\\lib\\site-packages (from mlxtend) (65.5.0)\n",
      "Requirement already satisfied: scikit-learn>=1.0.2 in c:\\users\\jay\\appdata\\local\\packages\\pythonsoftwarefoundation.python.3.10_qbz5n2kfra8p0\\localcache\\local-packages\\python310\\site-packages (from mlxtend) (1.2.2)\n",
      "Requirement already satisfied: pandas>=0.24.2 in c:\\users\\jay\\appdata\\local\\packages\\pythonsoftwarefoundation.python.3.10_qbz5n2kfra8p0\\localcache\\local-packages\\python310\\site-packages (from mlxtend) (2.0.3)\n",
      "Requirement already satisfied: contourpy>=1.0.1 in c:\\users\\jay\\appdata\\local\\packages\\pythonsoftwarefoundation.python.3.10_qbz5n2kfra8p0\\localcache\\local-packages\\python310\\site-packages (from matplotlib>=3.0.0->mlxtend) (1.0.7)\n",
      "Requirement already satisfied: kiwisolver>=1.0.1 in c:\\users\\jay\\appdata\\local\\packages\\pythonsoftwarefoundation.python.3.10_qbz5n2kfra8p0\\localcache\\local-packages\\python310\\site-packages (from matplotlib>=3.0.0->mlxtend) (1.4.4)\n",
      "Requirement already satisfied: pyparsing>=2.3.1 in c:\\users\\jay\\appdata\\local\\packages\\pythonsoftwarefoundation.python.3.10_qbz5n2kfra8p0\\localcache\\local-packages\\python310\\site-packages (from matplotlib>=3.0.0->mlxtend) (3.0.9)\n",
      "Requirement already satisfied: cycler>=0.10 in c:\\users\\jay\\appdata\\local\\packages\\pythonsoftwarefoundation.python.3.10_qbz5n2kfra8p0\\localcache\\local-packages\\python310\\site-packages (from matplotlib>=3.0.0->mlxtend) (0.11.0)\n",
      "Requirement already satisfied: pillow>=6.2.0 in c:\\users\\jay\\appdata\\local\\packages\\pythonsoftwarefoundation.python.3.10_qbz5n2kfra8p0\\localcache\\local-packages\\python310\\site-packages (from matplotlib>=3.0.0->mlxtend) (9.3.0)\n",
      "Requirement already satisfied: fonttools>=4.22.0 in c:\\users\\jay\\appdata\\local\\packages\\pythonsoftwarefoundation.python.3.10_qbz5n2kfra8p0\\localcache\\local-packages\\python310\\site-packages (from matplotlib>=3.0.0->mlxtend) (4.39.3)\n",
      "Requirement already satisfied: packaging>=20.0 in c:\\users\\jay\\appdata\\local\\packages\\pythonsoftwarefoundation.python.3.10_qbz5n2kfra8p0\\localcache\\local-packages\\python310\\site-packages (from matplotlib>=3.0.0->mlxtend) (23.0)\n",
      "Requirement already satisfied: python-dateutil>=2.7 in c:\\users\\jay\\appdata\\local\\packages\\pythonsoftwarefoundation.python.3.10_qbz5n2kfra8p0\\localcache\\local-packages\\python310\\site-packages (from matplotlib>=3.0.0->mlxtend) (2.8.2)\n",
      "Requirement already satisfied: tzdata>=2022.1 in c:\\users\\jay\\appdata\\local\\packages\\pythonsoftwarefoundation.python.3.10_qbz5n2kfra8p0\\localcache\\local-packages\\python310\\site-packages (from pandas>=0.24.2->mlxtend) (2023.3)\n",
      "Requirement already satisfied: pytz>=2020.1 in c:\\users\\jay\\appdata\\local\\packages\\pythonsoftwarefoundation.python.3.10_qbz5n2kfra8p0\\localcache\\local-packages\\python310\\site-packages (from pandas>=0.24.2->mlxtend) (2023.3)\n",
      "Requirement already satisfied: threadpoolctl>=2.0.0 in c:\\users\\jay\\appdata\\local\\packages\\pythonsoftwarefoundation.python.3.10_qbz5n2kfra8p0\\localcache\\local-packages\\python310\\site-packages (from scikit-learn>=1.0.2->mlxtend) (3.1.0)\n",
      "Requirement already satisfied: six>=1.5 in c:\\users\\jay\\appdata\\local\\packages\\pythonsoftwarefoundation.python.3.10_qbz5n2kfra8p0\\localcache\\local-packages\\python310\\site-packages (from python-dateutil>=2.7->matplotlib>=3.0.0->mlxtend) (1.16.0)\n",
      "Installing collected packages: mlxtend\n",
      "Successfully installed mlxtend-0.22.0\n"
     ]
    }
   ],
   "source": [
    "!pip install mlxtend"
   ]
  },
  {
   "cell_type": "code",
   "execution_count": 162,
   "id": "1a57e404",
   "metadata": {},
   "outputs": [],
   "source": [
    "import torch\n",
    "import torchaudio\n",
    "from load_data import UrbanSoundDataset\n",
    "from cnn import CNNNetwork\n",
    "import numpy as np"
   ]
  },
  {
   "cell_type": "code",
   "execution_count": 163,
   "id": "2c406557",
   "metadata": {},
   "outputs": [],
   "source": [
    "class_mapping = [\n",
    "    \"air_conditioner\",\n",
    "    \"car_horn\",\n",
    "    \"children_playing\",\n",
    "    \"dog_bark\",\n",
    "    \"drilling\",\n",
    "    \"engine_idling\",\n",
    "    \"gun_shot\",\n",
    "    \"jackhammer\",\n",
    "    \"siren\",\n",
    "    \"street_music\"\n",
    "]\n",
    "\n"
   ]
  },
  {
   "cell_type": "code",
   "execution_count": 164,
   "id": "9bc8ad37",
   "metadata": {},
   "outputs": [],
   "source": [
    "def predict(model, input, target, class_mapping):\n",
    "    model.eval()\n",
    "    with torch.inference_mode():\n",
    "        input , target = input , torch.from_numpy(target)\n",
    "        predictions = model(input)\n",
    "        # Tensor (1, 10) -> [ [0.1, 0.01, ..., 0.6] ]\n",
    "        predicted_index = predictions[0].argmax(0)\n",
    "        predicted = class_mapping[predicted_index]\n",
    "        expected = class_mapping[target]\n",
    "    return predicted, expected"
   ]
  },
  {
   "cell_type": "code",
   "execution_count": 165,
   "id": "80e752e0",
   "metadata": {},
   "outputs": [
    {
     "data": {
      "text/plain": [
       "<All keys matched successfully>"
      ]
     },
     "execution_count": 165,
     "metadata": {},
     "output_type": "execute_result"
    }
   ],
   "source": [
    "cnn = CNNNetwork()\n",
    "state_dict = torch.load(\"loaded_cnnnet.pth\")\n",
    "cnn.load_state_dict(state_dict)"
   ]
  },
  {
   "cell_type": "code",
   "execution_count": 166,
   "id": "bf52b607",
   "metadata": {},
   "outputs": [
    {
     "name": "stdout",
     "output_type": "stream",
     "text": [
      "There are 8732 samples in the dataset.\n",
      "tensor([[[1.9215e+00, 2.3077e-01, 3.4605e-02,  ..., 0.0000e+00,\n",
      "          0.0000e+00, 0.0000e+00],\n",
      "         [1.0664e+01, 4.1360e+00, 3.7223e+00,  ..., 0.0000e+00,\n",
      "          0.0000e+00, 0.0000e+00],\n",
      "         [6.9092e+00, 3.8512e+01, 3.3302e+01,  ..., 0.0000e+00,\n",
      "          0.0000e+00, 0.0000e+00],\n",
      "         ...,\n",
      "         [2.1341e-02, 1.7870e-02, 4.1181e-03,  ..., 0.0000e+00,\n",
      "          0.0000e+00, 0.0000e+00],\n",
      "         [1.7531e-02, 7.2000e-03, 2.7530e-03,  ..., 0.0000e+00,\n",
      "          0.0000e+00, 0.0000e+00],\n",
      "         [2.5842e-02, 7.3234e-03, 2.9197e-03,  ..., 0.0000e+00,\n",
      "          0.0000e+00, 0.0000e+00]]])\n",
      "3\n",
      "torch.Size([1, 64, 44])\n",
      "cpu\n"
     ]
    },
    {
     "data": {
      "text/plain": [
       "(None, None, None, None)"
      ]
     },
     "execution_count": 166,
     "metadata": {},
     "output_type": "execute_result"
    }
   ],
   "source": [
    "ANNOTATIONS_FILE = r\"E:\\DL_audio\\with_pytorch\\UrbanSound8K\\metadata\\UrbanSound8K.csv\"\n",
    "AUDIO_DIR = r\"E:\\DL_audio\\with_pytorch\\UrbanSound8K\\audio\"\n",
    "\n",
    "SAMPLE_RATE=16000\n",
    "NUM_SAMPLES = 22050\n",
    "\n",
    "mel_spec = torchaudio.transforms.MelSpectrogram(sample_rate = SAMPLE_RATE,\n",
    "                                              n_fft = 1024,\n",
    "                                              hop_length = 512,\n",
    "                                              n_mels = 64)\n",
    "\n",
    "    \n",
    "usd = UrbanSoundDataset(ANNOTATIONS_FILE,AUDIO_DIR,mel_spec,SAMPLE_RATE,NUM_SAMPLES)\n",
    "\n",
    "print(f\"There are {len(usd)} samples in the dataset.\")\n",
    "\n",
    "signal , label = usd[935]\n",
    "\n",
    "print(signal) , print(label) , print(signal.shape), print(signal.device)\n"
   ]
  },
  {
   "cell_type": "code",
   "execution_count": 167,
   "id": "3d1c794f",
   "metadata": {},
   "outputs": [],
   "source": [
    "X , y = usd[0][0] , usd[0][1]\n",
    "X.unsqueeze_(0)\n",
    "y = np.array(y)"
   ]
  },
  {
   "cell_type": "code",
   "execution_count": 168,
   "id": "c3d23fdf",
   "metadata": {},
   "outputs": [
    {
     "name": "stdout",
     "output_type": "stream",
     "text": [
      "children_playing\n",
      "children_playing\n"
     ]
    },
    {
     "data": {
      "text/plain": [
       "(None, None)"
      ]
     },
     "execution_count": 168,
     "metadata": {},
     "output_type": "execute_result"
    }
   ],
   "source": [
    "X , y = usd[5][0] , usd[5][1]\n",
    "X.unsqueeze_(0)\n",
    "y = np.array(y)\n",
    "predicted , expected = predict(cnn, X, y, class_mapping)\n",
    "print(predicted) , print(expected)"
   ]
  },
  {
   "cell_type": "code",
   "execution_count": 169,
   "id": "3a7c26d2",
   "metadata": {},
   "outputs": [],
   "source": [
    "pred = []\n",
    "expect = []\n",
    "\n",
    "for X, y in enumerate(usd):\n",
    "    #X , y = usd[i][0] , usd[i][1]\n",
    "    #print(y[0]),print(y[1])\n",
    "    #print(X) , print(y)\n",
    "    a = y[0].unsqueeze_(0)\n",
    "    b = np.array(y[1])\n",
    "    predicted , expected = predict(cnn, a, b, class_mapping)\n",
    "    pred.append(predicted)\n",
    "    expect.append(expected)"
   ]
  },
  {
   "cell_type": "code",
   "execution_count": 175,
   "id": "a17c52c2",
   "metadata": {},
   "outputs": [
    {
     "ename": "ValueError",
     "evalue": "At least one label specified must be in y_true",
     "output_type": "error",
     "traceback": [
      "\u001b[1;31m---------------------------------------------------------------------------\u001b[0m",
      "\u001b[1;31mValueError\u001b[0m                                Traceback (most recent call last)",
      "Cell \u001b[1;32mIn[175], line 9\u001b[0m\n\u001b[0;32m      2\u001b[0m \u001b[38;5;28;01mfrom\u001b[39;00m \u001b[38;5;21;01msklearn\u001b[39;00m\u001b[38;5;21;01m.\u001b[39;00m\u001b[38;5;21;01mmetrics\u001b[39;00m \u001b[38;5;28;01mimport\u001b[39;00m confusion_matrix\n\u001b[0;32m      4\u001b[0m \u001b[38;5;66;03m# Assuming 'predict' and 'expect' are lists of predicted and expected labels\u001b[39;00m\n\u001b[0;32m      5\u001b[0m \u001b[38;5;66;03m# predict = [1, 2, 1, 3, 2, 1, 3, 3, 2, 2]\u001b[39;00m\n\u001b[0;32m      6\u001b[0m \u001b[38;5;66;03m# expect = [1, 2, 1, 1, 2, 2, 3, 1, 2, 3]\u001b[39;00m\n\u001b[0;32m      7\u001b[0m \n\u001b[0;32m      8\u001b[0m \u001b[38;5;66;03m# Calculate the confusion matrix\u001b[39;00m\n\u001b[1;32m----> 9\u001b[0m confusion \u001b[38;5;241m=\u001b[39m \u001b[43mconfusion_matrix\u001b[49m\u001b[43m(\u001b[49m\u001b[43mexpect\u001b[49m\u001b[43m,\u001b[49m\u001b[43m \u001b[49m\u001b[43mpred\u001b[49m\u001b[43m,\u001b[49m\u001b[43m \u001b[49m\u001b[43mlabels\u001b[49m\u001b[38;5;241;43m=\u001b[39;49m\u001b[38;5;124;43m'\u001b[39;49m\u001b[38;5;124;43mclass_mapping\u001b[39;49m\u001b[38;5;124;43m'\u001b[39;49m\u001b[43m)\u001b[49m\n\u001b[0;32m     11\u001b[0m \u001b[38;5;28mprint\u001b[39m(\u001b[38;5;124m\"\u001b[39m\u001b[38;5;124mConfusion Matrix:\u001b[39m\u001b[38;5;124m\"\u001b[39m)\n\u001b[0;32m     12\u001b[0m \u001b[38;5;28mprint\u001b[39m(confusion)\n",
      "File \u001b[1;32m~\\AppData\\Local\\Packages\\PythonSoftwareFoundation.Python.3.10_qbz5n2kfra8p0\\LocalCache\\local-packages\\Python310\\site-packages\\sklearn\\metrics\\_classification.py:331\u001b[0m, in \u001b[0;36mconfusion_matrix\u001b[1;34m(y_true, y_pred, labels, sample_weight, normalize)\u001b[0m\n\u001b[0;32m    329\u001b[0m         \u001b[38;5;28;01mreturn\u001b[39;00m np\u001b[38;5;241m.\u001b[39mzeros((n_labels, n_labels), dtype\u001b[38;5;241m=\u001b[39m\u001b[38;5;28mint\u001b[39m)\n\u001b[0;32m    330\u001b[0m     \u001b[38;5;28;01melif\u001b[39;00m \u001b[38;5;28mlen\u001b[39m(np\u001b[38;5;241m.\u001b[39mintersect1d(y_true, labels)) \u001b[38;5;241m==\u001b[39m \u001b[38;5;241m0\u001b[39m:\n\u001b[1;32m--> 331\u001b[0m         \u001b[38;5;28;01mraise\u001b[39;00m \u001b[38;5;167;01mValueError\u001b[39;00m(\u001b[38;5;124m\"\u001b[39m\u001b[38;5;124mAt least one label specified must be in y_true\u001b[39m\u001b[38;5;124m\"\u001b[39m)\n\u001b[0;32m    333\u001b[0m \u001b[38;5;28;01mif\u001b[39;00m sample_weight \u001b[38;5;129;01mis\u001b[39;00m \u001b[38;5;28;01mNone\u001b[39;00m:\n\u001b[0;32m    334\u001b[0m     sample_weight \u001b[38;5;241m=\u001b[39m np\u001b[38;5;241m.\u001b[39mones(y_true\u001b[38;5;241m.\u001b[39mshape[\u001b[38;5;241m0\u001b[39m], dtype\u001b[38;5;241m=\u001b[39mnp\u001b[38;5;241m.\u001b[39mint64)\n",
      "\u001b[1;31mValueError\u001b[0m: At least one label specified must be in y_true"
     ]
    }
   ],
   "source": [
    "import numpy as np\n",
    "from sklearn.metrics import confusion_matrix\n",
    "\n",
    "# Assuming 'predict' and 'expect' are lists of predicted and expected labels\n",
    "# predict = [1, 2, 1, 3, 2, 1, 3, 3, 2, 2]\n",
    "# expect = [1, 2, 1, 1, 2, 2, 3, 1, 2, 3]\n",
    "\n",
    "# Calculate the confusion matrix\n",
    "confusion = confusion_matrix(expect, pred, labels='class_mapping')\n",
    "\n",
    "print(\"Confusion Matrix:\")\n",
    "print(confusion)"
   ]
  },
  {
   "cell_type": "code",
   "execution_count": null,
   "id": "9be2a15f",
   "metadata": {},
   "outputs": [],
   "source": [
    "from sklearn.metrics import confusion_matrix\n",
    "from sklearn.preprocessing import LabelEncoder\n",
    "import numpy as np\n",
    "\n",
    "# Assuming y_test and y_pred are your lists of true and predicted labels\n",
    "# Convert them to NumPy arrays for easier manipulation\n",
    "#y_test = np.array(y_test)\n",
    "#y_pred = np.array(y_pred)\n",
    "\n",
    "# Create a LabelEncoder and fit it on the combined labels\n",
    "label_encoder = LabelEncoder()\n",
    "label_encoder.fit(np.concatenate((y_test, y_pred)))\n",
    "\n",
    "# Transform the text labels to integer labels\n",
    "y_test_encoded = label_encoder.transform(y_test)\n",
    "y_pred_encoded = label_encoder.transform(y_pred)\n",
    "\n",
    "# Calculate the confusion matrix\n",
    "conf_matrix = confusion_matrix(y_test_encoded, y_pred_encoded)\n",
    "\n",
    "print(\"Confusion Matrix:\")\n",
    "print(conf_matrix)"
   ]
  },
  {
   "cell_type": "code",
   "execution_count": 177,
   "id": "fa1a752a",
   "metadata": {},
   "outputs": [
    {
     "data": {
      "image/png": "[encoded data removed]",
      "text/plain": [
       "<Figure size 640x480 with 1 Axes>"
      ]
     },
     "metadata": {},
     "output_type": "display_data"
    }
   ],
   "source": [
    "import matplotlib.pyplot as plt\n",
    "from mlxtend.plotting import plot_confusion_matrix\n",
    "\n",
    "fig, ax = plot_confusion_matrix(conf_mat=confusion, )\n",
    "plt.show()"
   ]
  },
  {
   "cell_type": "code",
   "execution_count": 180,
   "id": "17ab91ab",
   "metadata": {},
   "outputs": [
    {
     "ename": "SyntaxError",
     "evalue": "invalid non-printable character U+00A0 (3943612056.py, line 20)",
     "output_type": "error",
     "traceback": [
      "\u001b[1;36m  Cell \u001b[1;32mIn[180], line 20\u001b[1;36m\u001b[0m\n\u001b[1;33m    pred_label_count = pred_counter[label]\u001b[0m\n\u001b[1;37m    ^\u001b[0m\n\u001b[1;31mSyntaxError\u001b[0m\u001b[1;31m:\u001b[0m invalid non-printable character U+00A0\n"
     ]
    }
   ],
   "source": [
    "from collections import Counter\n",
    "import numpy as np\n",
    "\n",
    "# Assuming pred_list and expected_list are your lists of predicted and expected labels\n",
    "pred_list = pred\n",
    "expected_list = expect\n",
    "\n",
    "# Get the set of all unique labels from both lists\n",
    "all_labels = set(pred_list).union(expected_list)\n",
    "\n",
    "# Create dictionaries to count occurrences of each label\n",
    "pred_counter = Counter(pred_list)\n",
    "expected_counter = Counter(expected_list)\n",
    "\n",
    "# Initialize an empty confusion matrix\n",
    "conf_matrix = np.zeros((len(class_mapping), len(class_mapping)), dtype=int)\n",
    "\n",
    "# Fill in the confusion matrix based on the label counters\n",
    "for idx, label in enumerate(all_labels):\n",
    "    pred_label_count = pred_counter[label]\n",
    "    expected_label_count = expected_counter[label]\n",
    "    \n",
    "    # Find the index corresponding to the current label\n",
    "    pred_idx = idx\n",
    "    expected_idx = idx\n",
    "    \n",
    "    # Update the confusion matrix\n",
    "    conf_matrix[expected_idx, pred_idx] = pred_label_count\n",
    "\n",
    "print(\"Confusion Matrix:\")\n",
    "print(conf_matrix)    "
   ]
  },
  {
   "cell_type": "code",
   "execution_count": null,
   "id": "0580f81b",
   "metadata": {},
   "outputs": [],
   "source": []
  }
 ],
 "metadata": {
  "kernelspec": {
   "display_name": "Python 3 (ipykernel)",
   "language": "python",
   "name": "python3"
  },
  "language_info": {
   "codemirror_mode": {
    "name": "ipython",
    "version": 3
   },
   "file_extension": ".py",
   "mimetype": "text/x-python",
   "name": "python",
   "nbconvert_exporter": "python",
   "pygments_lexer": "ipython3",
   "version": "3.10.11"
  }
 },
 "nbformat": 4,
 "nbformat_minor": 5
}
